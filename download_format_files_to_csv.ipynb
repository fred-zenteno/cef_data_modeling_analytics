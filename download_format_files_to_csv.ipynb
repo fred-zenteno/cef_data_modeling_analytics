{
 "cells": [
  {
   "cell_type": "code",
   "execution_count": null,
   "metadata": {},
   "outputs": [],
   "source": [
    "# pip install pandas"
   ]
  },
  {
   "cell_type": "code",
   "execution_count": null,
   "metadata": {},
   "outputs": [],
   "source": [
    "import pandas as pd\n",
    "import os"
   ]
  },
  {
   "cell_type": "markdown",
   "metadata": {},
   "source": [
    "## Chronic Absenteeism Data"
   ]
  },
  {
   "cell_type": "code",
   "execution_count": 4,
   "metadata": {},
   "outputs": [
    {
     "name": "stdout",
     "output_type": "stream",
     "text": [
      "Successfully exported chronicabsenteeism23.csv\n",
      "Successfully exported chronicabsenteeism22-v3.csv\n",
      "Successfully exported chronicabsenteeism21.csv\n",
      "Successfully exported chronicabsenteeism19.csv\n",
      "Successfully exported chronicabsenteeism18.csv\n",
      "Successfully exported chronicabsenteeism17.csv\n"
     ]
    }
   ],
   "source": [
    "# https://www.cde.ca.gov/ds/ad/filesabd.asp\n",
    "# Download the TXT files and convert them to CSV files. Then place the CSV files into a folder. \n",
    "\n",
    "# List of URLs\n",
    "urls = [\n",
    "    \"https://www3.cde.ca.gov/demo-downloads/attendance/chronicabsenteeism23.txt\",\n",
    "    \"https://www3.cde.ca.gov/demo-downloads/attendance/chronicabsenteeism22-v3.txt\",\n",
    "    \"https://www3.cde.ca.gov/demo-downloads/attendance/chronicabsenteeism21.txt\",\n",
    "    \"https://www3.cde.ca.gov/demo-downloads/attendance/chronicabsenteeism19.txt\",\n",
    "    \"https://www3.cde.ca.gov/demo-downloads/attendance/chronicabsenteeism18.txt\"\n",
    "]\n",
    "\n",
    "# Specify the folder to save the CSV files\n",
    "folder = 'chronic_absenteeism_csv_files/'\n",
    "\n",
    "# Ensure the folder exists\n",
    "os.makedirs(folder, exist_ok=True)\n",
    "\n",
    "# Loop over the URLs\n",
    "for url in urls:\n",
    "    # Parse the final part of the URL to use as a filename\n",
    "    filename = url.split('/')[-1].replace('.txt', '.csv')\n",
    "    \n",
    "    # Construct the output file path\n",
    "    output_file_path = os.path.join(folder, filename)\n",
    "    \n",
    "    try:\n",
    "        # Read the file with a specific encoding\n",
    "        df = pd.read_csv(url, sep=\"\\t\", encoding='ISO-8859-1',dtype=str)  # You may need to adjust the encoding as necessary\n",
    "\n",
    "        # Export the DataFrame to a CSV file\n",
    "        df.to_csv(output_file_path, index=False)  # Set index=False if you don't want the index in the output file\n",
    "        print(f'Successfully exported {filename}')\n",
    "    except Exception as e:\n",
    "        print(f'Failed to process {url} due to {e}')"
   ]
  },
  {
   "cell_type": "markdown",
   "metadata": {},
   "source": [
    "## Expulsion Data"
   ]
  },
  {
   "cell_type": "code",
   "execution_count": 5,
   "metadata": {},
   "outputs": [
    {
     "name": "stdout",
     "output_type": "stream",
     "text": [
      "Successfully exported expulsion23.csv\n",
      "Successfully exported expulsion22-v3.csv\n",
      "Successfully exported expulsion21.csv\n",
      "Successfully exported expulsion20.csv\n",
      "Successfully exported expulsion19.csv\n",
      "Successfully exported expulsion18.csv\n",
      "Successfully exported expulsion17.csv\n",
      "Successfully exported expulsion16.csv\n",
      "Successfully exported expulsion15.csv\n",
      "Successfully exported expulsion14.csv\n",
      "Successfully exported expulsion13.csv\n",
      "Successfully exported expulsion12.csv\n"
     ]
    }
   ],
   "source": [
    "# https://www.cde.ca.gov/ds/ad/filesed.asp\n",
    "# Download the TXT files and convert them to CSV files. Then place the CSV files into a folder. \n",
    "\n",
    "# List of URLs\n",
    "urls = [\n",
    "    \"https://www3.cde.ca.gov/demo-downloads/discipline/expulsion23.txt\",\n",
    "    \"https://www3.cde.ca.gov/demo-downloads/discipline/expulsion22-v3.txt\",\n",
    "    \"https://www3.cde.ca.gov/demo-downloads/discipline/expulsion21.txt\",\n",
    "    \"https://www3.cde.ca.gov/demo-downloads/discipline/expulsion20.txt\",\n",
    "    \"https://www3.cde.ca.gov/demo-downloads/discipline/expulsion19.txt\",\n",
    "    \"https://www3.cde.ca.gov/demo-downloads/discipline/expulsion18.txt\"\n",
    "]\n",
    "\n",
    "# Specify the folder to save the CSV files\n",
    "folder = 'expulsion_data_csv_files/'\n",
    "\n",
    "# Ensure the folder exists\n",
    "os.makedirs(folder, exist_ok=True)\n",
    "\n",
    "# Loop over the URLs\n",
    "for url in urls:\n",
    "    # Parse the final part of the URL to use as a filename\n",
    "    filename = url.split('/')[-1].replace('.txt', '.csv')\n",
    "    \n",
    "    # Construct the output file path\n",
    "    output_file_path = os.path.join(folder, filename)\n",
    "    \n",
    "    try:\n",
    "        # Read the file with a specific encoding\n",
    "        df = pd.read_csv(url, sep=\"\\t\", encoding='ISO-8859-1',dtype=str)  # You may need to adjust the encoding as necessary\n",
    "\n",
    "        # Export the DataFrame to a CSV file\n",
    "        df.to_csv(output_file_path, index=False)  # Set index=False if you don't want the index in the output file\n",
    "        print(f'Successfully exported {filename}')\n",
    "    except Exception as e:\n",
    "        print(f'Failed to process {url} due to {e}')"
   ]
  },
  {
   "cell_type": "markdown",
   "metadata": {},
   "source": [
    "## Suspension Data"
   ]
  },
  {
   "cell_type": "code",
   "execution_count": 6,
   "metadata": {},
   "outputs": [
    {
     "name": "stdout",
     "output_type": "stream",
     "text": [
      "Successfully exported suspension23.csv\n",
      "Successfully exported suspension22-v2.csv\n",
      "Successfully exported suspension21.csv\n",
      "Successfully exported suspension20.csv\n",
      "Successfully exported suspension19.csv\n",
      "Successfully exported suspension18.csv\n"
     ]
    }
   ],
   "source": [
    "# https://www.cde.ca.gov/ds/ad/filessd.asp\n",
    "# Download the TXT files and convert them to CSV files. Then place the CSV files into a folder. \n",
    "\n",
    "# List of URLs\n",
    "urls = [\n",
    "    \"https://www3.cde.ca.gov/demo-downloads/discipline/suspension23.txt\",\n",
    "    \"https://www3.cde.ca.gov/demo-downloads/discipline/suspension22-v2.txt\",\n",
    "    \"https://www3.cde.ca.gov/demo-downloads/discipline/suspension21.txt\",\n",
    "    \"https://www3.cde.ca.gov/demo-downloads/discipline/suspension20.txt\",\n",
    "    \"https://www3.cde.ca.gov/demo-downloads/discipline/suspension19.txt\",\n",
    "    \"https://www3.cde.ca.gov/demo-downloads/discipline/suspension18.txt\"\n",
    "]\n",
    "\n",
    "# Specify the folder to save the CSV files\n",
    "folder = 'suspension_data_csv_files/'\n",
    "\n",
    "# Ensure the folder exists\n",
    "os.makedirs(folder, exist_ok=True)\n",
    "\n",
    "# Loop over the URLs\n",
    "for url in urls:\n",
    "    # Parse the final part of the URL to use as a filename\n",
    "    filename = url.split('/')[-1].replace('.txt', '.csv')\n",
    "    \n",
    "    # Construct the output file path\n",
    "    output_file_path = os.path.join(folder, filename)\n",
    "    \n",
    "    try:\n",
    "        # Read the file with a specific encoding\n",
    "        df = pd.read_csv(url, sep=\"\\t\", encoding='ISO-8859-1',dtype=str)  # You may need to adjust the encoding as necessary\n",
    "\n",
    "        # Export the DataFrame to a CSV file\n",
    "        df.to_csv(output_file_path, index=False)  # Set index=False if you don't want the index in the output file\n",
    "        print(f'Successfully exported {filename}')\n",
    "    except Exception as e:\n",
    "        print(f'Failed to process {url} due to {e}')"
   ]
  },
  {
   "cell_type": "markdown",
   "metadata": {},
   "source": [
    "## English Language Arts/Literacy and Mathematics"
   ]
  },
  {
   "cell_type": "markdown",
   "metadata": {},
   "source": [
    "## California Statewide Research Files\n",
    "\n",
    "Go to the site and download the zip folders containing the complete files. Then, unzip and import the files into a folder in the directory where the script can access them. Then create a folder where the script will format them into eligible CSV files. \n",
    "\n",
    "- [State Site](https://caaspp-elpac.ets.org/caaspp/ResearchFileListSB?ps=true&lstTestYear=2023&lstTestType=B&lstCounty=00&lstDistrict=00000&lstFocus=a\n",
    ")\n",
    "- [2022–23 California Statewide research file, All Student Groups, caret delimited (CSV; 88MB)](https://caaspp-elpac.ets.org/caaspp/researchfiles/sb_ca2023_all_csv_v1.zip)\n",
    "- [2021–22 California Statewide research file, All Student Groups, caret delimited (CSV; 83MB)](https://caaspp-elpac.ets.org/caaspp/researchfiles/sb_ca2022_all_csv_v1.zip)\n",
    "- [2020–21 California Statewide research file, All Student Groups, caret delimited (CSV; 35MB)](https://caaspp-elpac.ets.org/caaspp/researchfiles/sb_ca2021_all_csv_v2.zip)\n",
    "- [2018–19 California Statewide research file, All Student Groups, comma delimited (CSV; 100MB)](https://caaspp-elpac.ets.org/caaspp/researchfiles/sb_ca2019_all_csv_v4.zip)\n",
    "- [2017–18 California Statewide research file, All Student Groups, comma delimited (CSV; 84MB)](https://caaspp-elpac.ets.org/caaspp/researchfiles/sb_ca2018_all_csv_v3.zip)\n"
   ]
  },
  {
   "cell_type": "code",
   "execution_count": 10,
   "metadata": {},
   "outputs": [
    {
     "name": "stdout",
     "output_type": "stream",
     "text": [
      "Processed and exported: sb_ca2018_all_csv_v3.csv\n",
      "Processed and exported: sb_ca2019_all_csv_v4.csv\n",
      "Processed and exported: sb_ca2021_all_csv_v2.csv\n",
      "Processed and exported: sb_ca2023_all_csv_v1.csv\n",
      "Processed and exported: sb_ca2022_all_csv_v1.csv\n"
     ]
    }
   ],
   "source": [
    "# Define the path to the directories\n",
    "import_dir = 'caaspp_txt_files_imported/'\n",
    "export_dir = 'caaspp_csv_files_exported/'\n",
    "\n",
    "# Create the export directory if it doesn't exist\n",
    "if not os.path.exists(export_dir):\n",
    "    os.makedirs(export_dir)\n",
    "\n",
    "# Function to determine the appropriate delimiter\n",
    "def determine_delimiter(file_path):\n",
    "    with open(file_path, 'r') as file:\n",
    "        first_line = file.readline()\n",
    "        if '^' in first_line:\n",
    "            return '^'\n",
    "        else:\n",
    "            return ','\n",
    "\n",
    "# Loop through each file in the import directory\n",
    "for filename in os.listdir(import_dir):\n",
    "    if filename.endswith('.txt'):  # Process only '.txt' files\n",
    "        file_path = os.path.join(import_dir, filename)\n",
    "        \n",
    "        # Determine the delimiter from the first line of the file\n",
    "        delimiter = determine_delimiter(file_path)\n",
    "\n",
    "        # Read the text file into a DataFrame using the detected delimiter\n",
    "        df = pd.read_csv(file_path, delimiter=delimiter, header=0, low_memory=False, dtype=str, quotechar='\"')\n",
    "        \n",
    "        # Define the export file path (change extension to .csv)\n",
    "        export_file_path = os.path.join(export_dir, filename.replace('.txt', '.csv'))\n",
    "        new_filename = filename.replace('.txt', '.csv')\n",
    "        # Export the DataFrame as a CSV file\n",
    "        df.to_csv(export_file_path, index=False)\n",
    "\n",
    "        print(f\"Processed and exported: {new_filename}\")"
   ]
  },
  {
   "cell_type": "markdown",
   "metadata": {},
   "source": [
    "## Cumulative Enrollment Data"
   ]
  },
  {
   "cell_type": "code",
   "execution_count": 11,
   "metadata": {},
   "outputs": [
    {
     "name": "stdout",
     "output_type": "stream",
     "text": [
      "Successfully exported cenroll2223.csv\n",
      "Successfully exported cenroll2122.csv\n",
      "Successfully exported cenroll2021.csv\n",
      "Successfully exported cenroll1920.csv\n",
      "Successfully exported cenroll1819.csv\n",
      "Successfully exported cenroll1718.csv\n"
     ]
    }
   ],
   "source": [
    "# https://www.cde.ca.gov/ds/ad/filesenrcum.asp\n",
    "# Download the TXT files and convert them to CSV files. Then place the CSV files into a folder. \n",
    "\n",
    "# List of URLs\n",
    "urls = [\n",
    "    \"https://www3.cde.ca.gov/demo-downloads/ce/cenroll2223.txt\",\n",
    "    \"https://www3.cde.ca.gov/demo-downloads/ce/cenroll2122.txt\",\n",
    "    \"https://www3.cde.ca.gov/demo-downloads/ce/cenroll2021.txt\",\n",
    "    \"https://www3.cde.ca.gov/demo-downloads/ce/cenroll1920.txt\",\n",
    "    \"https://www3.cde.ca.gov/demo-downloads/ce/cenroll1819.txt\",\n",
    "    \"https://www3.cde.ca.gov/demo-downloads/ce/cenroll1718.txt\"\n",
    "]\n",
    "\n",
    "# Specify the folder to save the CSV files\n",
    "folder = 'cumulative_enrollment_csv_files/'\n",
    "\n",
    "# Ensure the folder exists\n",
    "os.makedirs(folder, exist_ok=True)\n",
    "\n",
    "# Loop over the URLs\n",
    "for url in urls:\n",
    "    # Parse the final part of the URL to use as a filename\n",
    "    filename = url.split('/')[-1].replace('.txt', '.csv')\n",
    "    \n",
    "    # Construct the output file path\n",
    "    output_file_path = os.path.join(folder, filename)\n",
    "    \n",
    "    try:\n",
    "        # Read the file with a specific encoding\n",
    "        df = pd.read_csv(url, sep=\"\\t\", encoding='ISO-8859-1',dtype=str)  # You may need to adjust the encoding as necessary\n",
    "\n",
    "        # Export the DataFrame to a CSV file\n",
    "        df.to_csv(output_file_path, index=False)  # Set index=False if you don't want the index in the output file\n",
    "        print(f'Successfully exported {filename}')\n",
    "    except Exception as e:\n",
    "        print(f'Failed to process {url} due to {e}')"
   ]
  },
  {
   "cell_type": "markdown",
   "metadata": {},
   "source": [
    "## Enrollment by ELAS, LTEL, and At-Risk by Grade"
   ]
  },
  {
   "cell_type": "code",
   "execution_count": 12,
   "metadata": {},
   "outputs": [
    {
     "name": "stdout",
     "output_type": "stream",
     "text": [
      "Processed and exported: LtelDownload1920.txt\n",
      "Processed and exported: LtelDownload2223.txt\n",
      "Processed and exported: LtelDownload2021.txt\n",
      "Processed and exported: LtelDownload1819.txt\n",
      "Processed and exported: LtelDownload2122.txt\n",
      "Processed and exported: LtelDownload1718.txt\n"
     ]
    }
   ],
   "source": [
    "# https://www.cde.ca.gov/ds/ad/filesltel.asp\n",
    "\n",
    "# Download each file by clicking on each link. Then save the txt files into a folder within the directory.\n",
    "\n",
    "import_dir = 'enrollment_el_txt_files_imported/'\n",
    "export_dir = 'enrollment_el_csv_files_exported/'\n",
    "\n",
    "# Create the export directory if it doesn't exist\n",
    "if not os.path.exists(export_dir):\n",
    "    os.makedirs(export_dir)\n",
    "\n",
    "# Loop through each file in the import directory\n",
    "for filename in os.listdir(import_dir):\n",
    "    if filename.endswith('.txt'):  # Make sure to process only '.txt' files\n",
    "        file_path = os.path.join(import_dir, filename)\n",
    "        \n",
    "        columns_as_strings = {\n",
    "            'SchoolCode': str,\n",
    "            'DistrictCode': str,\n",
    "            'CountyCode': str\n",
    "            # Add more columns as needed\n",
    "        }\n",
    "        \n",
    "        # Read the text file into a DataFrame\n",
    "        # df = pd.read_csv(file_path, delimiter='^', header=0, low_memory=False)\n",
    "        \n",
    "        # df = pd.read_csv(file_path, sep='\\t', header=0, low_memory=False)\n",
    "        \n",
    "        df = pd.read_csv(file_path, sep='\\t', dtype=columns_as_strings, header=0, low_memory=False)\n",
    "        \n",
    "        # Define the export file path (change extension to .csv)\n",
    "        export_file_path = os.path.join(export_dir, filename.replace('.txt', '.csv'))\n",
    "        \n",
    "        # Export the DataFrame as a CSV file\n",
    "        df.to_csv(export_file_path, index=False)\n",
    "\n",
    "        print(f\"Processed and exported: {filename}\")"
   ]
  }
 ],
 "metadata": {
  "kernelspec": {
   "display_name": ".venv",
   "language": "python",
   "name": "python3"
  },
  "language_info": {
   "codemirror_mode": {
    "name": "ipython",
    "version": 3
   },
   "file_extension": ".py",
   "mimetype": "text/x-python",
   "name": "python",
   "nbconvert_exporter": "python",
   "pygments_lexer": "ipython3",
   "version": "3.9.6"
  }
 },
 "nbformat": 4,
 "nbformat_minor": 2
}
